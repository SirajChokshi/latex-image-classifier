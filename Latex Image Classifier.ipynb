{
 "cells": [
  {
   "cell_type": "code",
   "execution_count": 6,
   "metadata": {},
   "outputs": [],
   "source": [
    "#feat: improve the quality of image but sometimes make it worse instead oops\n",
    "from PIL import Image\n",
    "import requests\n",
    "from io import BytesIO\n",
    "\n",
    "# URL for image\n",
    "URL = \"https://3.bp.blogspot.com/-yGygK1Js_ME/VQZF53yXHbI/AAAAAAAAChM/kLeSWevQxvE/s1600/testImage1.png\"\n",
    "\n",
    "response = requests.get(URL)\n",
    "\n",
    "column = Image.open(BytesIO(response.content))\n",
    "gray = column.convert('L')\n",
    "blackwhite = gray.point(lambda x: 0 if x < 200 else 255, '1')\n",
    "blackwhite.save(\"code_bw.jpg\")"
   ]
  },
  {
   "cell_type": "code",
   "execution_count": 7,
   "metadata": {},
   "outputs": [
    {
     "name": "stdout",
     "output_type": "stream",
     "text": [
      "Does this OCR thing really work? H .\n",
      "\n",
      "How about a bigger font?\n",
      "423456789 {23\n",
      "What about thiy fowl?\n",
      "\n"
     ]
    }
   ],
   "source": [
    "#feat: get text from image\n",
    "from tesserocr import PyTessBaseAPI\n",
    "\n",
    "with PyTessBaseAPI() as api:\n",
    "    api.SetImageFile('code_bw.jpg')\n",
    "    print(api.GetUTF8Text())"
   ]
  },
  {
   "cell_type": "code",
   "execution_count": null,
   "metadata": {},
   "outputs": [],
   "source": []
  },
  {
   "cell_type": "code",
   "execution_count": null,
   "metadata": {},
   "outputs": [],
   "source": []
  }
 ],
 "metadata": {
  "kernelspec": {
   "display_name": "Python 3",
   "language": "python",
   "name": "python3"
  },
  "language_info": {
   "codemirror_mode": {
    "name": "ipython",
    "version": 3
   },
   "file_extension": ".py",
   "mimetype": "text/x-python",
   "name": "python",
   "nbconvert_exporter": "python",
   "pygments_lexer": "ipython3",
   "version": "3.7.6"
  }
 },
 "nbformat": 4,
 "nbformat_minor": 2
}
